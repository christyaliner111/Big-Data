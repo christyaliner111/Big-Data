{
  "nbformat": 4,
  "nbformat_minor": 0,
  "metadata": {
    "accelerator": "GPU",
    "colab": {
      "name": "Spark_Project.ipynb",
      "provenance": [],
      "collapsed_sections": [
        "uuDAMcCCfpf1",
        "gfrAFp99fpf4",
        "IRAcaO7Wfpf7",
        "YKehFG6utVAs",
        "-BykfV5UROSp",
        "0Z-5vDL9WS9I",
        "LsF36YW7OF7u",
        "JRmUFRU1PEn9",
        "iff4-W2yPGh8",
        "oxF_2WwiJ6e_",
        "TVB3VU7dEwyV",
        "Qylhl8j7E2qc",
        "ABytrx8XE-di",
        "vLoYkLOVJqLr",
        "D3E5Xkkwfpgz",
        "nt0xTzHuRSFx",
        "6iIKr9imaeM5",
        "wqr1yysLa4sV",
        "q1IcgHwYpQTL",
        "GkHwNvepa64c",
        "rWLkHqBFbXkX",
        "lGfpNHnQbBQ9",
        "VvFSAfIW7rEN"
      ],
      "toc_visible": true,
      "machine_shape": "hm"
    },
    "kernelspec": {
      "display_name": "Python 3",
      "language": "python",
      "name": "python3"
    },
    "language_info": {
      "codemirror_mode": {
        "name": "ipython",
        "version": 3
      },
      "file_extension": ".py",
      "mimetype": "text/x-python",
      "name": "python",
      "nbconvert_exporter": "python",
      "pygments_lexer": "ipython3",
      "version": "3.7.3"
    }
  },
  "cells": [
    {
      "cell_type": "markdown",
      "metadata": {
        "colab_type": "text",
        "id": "uuDAMcCCfpf1"
      },
      "source": [
        "# Costa Rica Poverty Level Classiciation "
      ]
    },
    {
      "cell_type": "code",
      "metadata": {
        "colab_type": "code",
        "id": "nwKpssHXNNP0",
        "outputId": "8f0e582d-2c1e-44d3-f15e-75111bff14f8",
        "colab": {}
      },
      "source": [
        "pip install catboost dask-ml -q"
      ],
      "execution_count": 0,
      "outputs": [
        {
          "output_type": "stream",
          "text": [
            "Note: you may need to restart the kernel to use updated packages.\n"
          ],
          "name": "stdout"
        }
      ]
    },
    {
      "cell_type": "markdown",
      "metadata": {
        "colab_type": "text",
        "id": "YKehFG6utVAs"
      },
      "source": [
        "# Imports and DataFrame Creation"
      ]
    },
    {
      "cell_type": "code",
      "metadata": {
        "colab_type": "code",
        "id": "WOaO9rBCizz9",
        "colab": {}
      },
      "source": [
        "import dask.dataframe as dd\n",
        "from dask_ml.model_selection import train_test_split\n",
        "import joblib\n",
        "from dask.distributed import Client, progress\n",
        "import pandas as pd\n",
        "import numpy as np\n",
        "import matplotlib.pyplot as plt\n",
        "import seaborn as sns\n",
        "sns.set(palette='Accent')\n",
        "import plotly.express as px\n",
        "\n",
        "from sklearn.preprocessing import StandardScaler\n",
        "\n",
        "from sklearn.linear_model import LogisticRegression\n",
        "from sklearn.ensemble import RandomForestClassifier, AdaBoostClassifier, GradientBoostingClassifier\n",
        "from sklearn.tree import DecisionTreeClassifier\n",
        "from sklearn.neighbors import KNeighborsClassifier\n",
        "from sklearn.svm import SVC\n",
        "from xgboost import XGBClassifier\n",
        "from catboost import CatBoostClassifier\n",
        "\n",
        "from statsmodels.tools.tools import add_constant\n",
        "from statsmodels.stats.outliers_influence import variance_inflation_factor\n",
        "\n",
        "from sklearn.feature_selection import SelectFromModel\n",
        "\n",
        "from sklearn.metrics import confusion_matrix, classification_report, f1_score, balanced_accuracy_score, roc_curve, precision_recall_curve, roc_auc_score, auc\n",
        "\n",
        "from sklearn.model_selection import cross_val_score\n",
        "from sklearn.preprocessing import label_binarize\n",
        "\n",
        "import warnings\n",
        "warnings.filterwarnings('ignore')\n",
        "\n",
        "import timeit\n",
        "from datetime import datetime\n",
        "\n",
        "import itertools\n",
        "from itertools import cycle"
      ],
      "execution_count": 0,
      "outputs": []
    },
    {
      "cell_type": "code",
      "metadata": {
        "id": "6rBTj_DLcf_Y",
        "colab_type": "code",
        "outputId": "ef56b523-9fe1-4088-cc23-e03c6e673c4a",
        "colab": {}
      },
      "source": [
        "client = Client(n_workers=4, threads_per_worker=2, memory_limit='2GB')\n",
        "client"
      ],
      "execution_count": 0,
      "outputs": [
        {
          "output_type": "execute_result",
          "data": {
            "text/html": [
              "<table style=\"border: 2px solid white;\">\n",
              "<tr>\n",
              "<td style=\"vertical-align: top; border: 0px solid white\">\n",
              "<h3 style=\"text-align: left;\">Client</h3>\n",
              "<ul style=\"text-align: left; list-style: none; margin: 0; padding: 0;\">\n",
              "  <li><b>Scheduler: </b>tcp://127.0.0.1:52425</li>\n",
              "  <li><b>Dashboard: </b><a href='http://127.0.0.1:8787/status' target='_blank'>http://127.0.0.1:8787/status</a>\n",
              "</ul>\n",
              "</td>\n",
              "<td style=\"vertical-align: top; border: 0px solid white\">\n",
              "<h3 style=\"text-align: left;\">Cluster</h3>\n",
              "<ul style=\"text-align: left; list-style:none; margin: 0; padding: 0;\">\n",
              "  <li><b>Workers: </b>4</li>\n",
              "  <li><b>Cores: </b>8</li>\n",
              "  <li><b>Memory: </b>8.00 GB</li>\n",
              "</ul>\n",
              "</td>\n",
              "</tr>\n",
              "</table>"
            ],
            "text/plain": [
              "<Client: 'tcp://127.0.0.1:52425' processes=4 threads=8, memory=8.00 GB>"
            ]
          },
          "metadata": {
            "tags": []
          },
          "execution_count": 37
        }
      ]
    },
    {
      "cell_type": "code",
      "metadata": {
        "colab_type": "code",
        "id": "zcjYqEqPjeZE",
        "colab": {}
      },
      "source": [
        "df = dd.read_csv('/Users/jtchristyliner/Downloads/train 2.csv')\n",
        "\n",
        "#https://www.kaggle.com/c/costa-rican-household-poverty-prediction"
      ],
      "execution_count": 0,
      "outputs": []
    },
    {
      "cell_type": "markdown",
      "metadata": {
        "colab_type": "text",
        "id": "aEOgiZNI3jmv"
      },
      "source": [
        "# Data Cleaning"
      ]
    },
    {
      "cell_type": "markdown",
      "metadata": {
        "colab_type": "text",
        "id": "0Z-5vDL9WS9I"
      },
      "source": [
        "## Reverse One Hot Encoding to Ordinal Features"
      ]
    },
    {
      "cell_type": "code",
      "metadata": {
        "colab_type": "code",
        "id": "xGZjubu6qYH3",
        "colab": {}
      },
      "source": [
        "#Categories to reverse\n",
        "water_df = df.loc[:,['abastaguano', 'abastaguafuera', 'abastaguadentro']]\n",
        "wall_df = df.loc[:,['epared1', 'epared2', 'epared3']]\n",
        "roof_df = df.loc[:,['etecho1', 'etecho2', 'etecho3']]\n",
        "floor_df = df.loc[:,['eviv1', 'eviv2', 'eviv3']]\n",
        "education_df = df.loc[:, ['instlevel1', 'instlevel2', 'instlevel3', 'instlevel4', 'instlevel5', 'instlevel6', 'instlevel7', 'instlevel8', 'instlevel9']]\n",
        "home_ownership_df = df.loc[:, ['tipovivi1', 'tipovivi2', 'tipovivi3', 'tipovivi4', 'tipovivi5']]"
      ],
      "execution_count": 0,
      "outputs": []
    },
    {
      "cell_type": "code",
      "metadata": {
        "colab_type": "code",
        "id": "rhJ3W6XWWSsf",
        "colab": {}
      },
      "source": [
        "#Reverse and combine back into original dataframe\n",
        "for column in education_df:\n",
        "    education_df[column] = education_df[column].replace(1, education_df.columns.get_loc(column))\n",
        "    \n",
        "df['education'] = education_df.sum(axis = 1) \n",
        "\n",
        "for column in water_df:\n",
        "    water_df[column] = water_df[column].replace(1, water_df.columns.get_loc(column))\n",
        "    \n",
        "df['water'] = water_df.sum(axis = 1) \n",
        "\n",
        "for column in wall_df:\n",
        "    wall_df[column] = wall_df[column].replace(1, wall_df.columns.get_loc(column))\n",
        "    \n",
        "df['wall'] = wall_df.sum(axis = 1) \n",
        "\n",
        "for column in roof_df:\n",
        "    roof_df[column] = roof_df[column].replace(1, roof_df.columns.get_loc(column))\n",
        "    \n",
        "df['roof'] = roof_df.sum(axis = 1) \n",
        "\n",
        "for column in floor_df:\n",
        "    floor_df[column] = floor_df[column].replace(1, floor_df.columns.get_loc(column))\n",
        "    \n",
        "df['floor'] = floor_df.sum(axis = 1) \n",
        "\n",
        "for column in home_ownership_df:\n",
        "    home_ownership_df[column] = home_ownership_df[column].replace(1, home_ownership_df.columns.get_loc(column))\n",
        "    \n",
        "df['home_ownership'] = home_ownership_df.sum(axis = 1) \n"
      ],
      "execution_count": 0,
      "outputs": []
    },
    {
      "cell_type": "code",
      "metadata": {
        "colab_type": "code",
        "id": "wAKyr45f_pvA",
        "colab": {}
      },
      "source": [
        "#drop columns that were combined from one hot encoding reversal and rename columns\n",
        "\n",
        "df = df.drop(columns = ['abastaguano', 'abastaguafuera', 'abastaguadentro', 'epared1', \n",
        "                              'epared2', 'epared3', 'etecho1', 'etecho2', 'etecho3', 'eviv1', \n",
        "                              'eviv2', 'eviv3', 'instlevel1', 'instlevel2', 'instlevel3',\n",
        "                              'instlevel4', 'instlevel5', 'instlevel6', 'instlevel7', 'instlevel8', \n",
        "                              'instlevel9', 'tipovivi1', 'tipovivi2', 'tipovivi3', 'tipovivi4', \n",
        "                              'tipovivi5'])\n"
      ],
      "execution_count": 0,
      "outputs": []
    },
    {
      "cell_type": "markdown",
      "metadata": {
        "colab_type": "text",
        "id": "LsF36YW7OF7u"
      },
      "source": [
        "## Handle Object Dtypes"
      ]
    },
    {
      "cell_type": "code",
      "metadata": {
        "colab_type": "code",
        "id": "BJZiMlYTOI39",
        "outputId": "df9d7f98-eeb2-430a-8d7a-746d301d14b5",
        "colab": {
          "base_uri": "https://localhost:8080/",
          "height": 34
        }
      },
      "source": [
        "df.columns[df.dtypes==object]"
      ],
      "execution_count": 0,
      "outputs": [
        {
          "output_type": "execute_result",
          "data": {
            "text/plain": [
              "Index(['Id', 'idhogar', 'dependency', 'edjefe', 'edjefa'], dtype='object')"
            ]
          },
          "metadata": {
            "tags": []
          },
          "execution_count": 11
        }
      ]
    },
    {
      "cell_type": "markdown",
      "metadata": {
        "colab_type": "text",
        "id": "JRmUFRU1PEn9"
      },
      "source": [
        "## Dependency"
      ]
    },
    {
      "cell_type": "code",
      "metadata": {
        "colab_type": "code",
        "id": "Cu_EavfLNqrk",
        "outputId": "24c606c4-ad50-43b5-b4e1-54af5eb091e7",
        "colab": {
          "base_uri": "https://localhost:8080/",
          "height": 123
        }
      },
      "source": [
        "df['dependency'].unique()"
      ],
      "execution_count": 0,
      "outputs": [
        {
          "output_type": "execute_result",
          "data": {
            "text/plain": [
              "Dask Series Structure:\n",
              "npartitions=1\n",
              "    object\n",
              "       ...\n",
              "Name: dependency, dtype: object\n",
              "Dask Name: unique-agg, 104 tasks"
            ]
          },
          "metadata": {
            "tags": []
          },
          "execution_count": 12
        }
      ]
    },
    {
      "cell_type": "code",
      "metadata": {
        "colab_type": "code",
        "id": "Y-LrG3d5ORVX",
        "colab": {}
      },
      "source": [
        "df['dependency'] = df['dependency'].replace('yes', 1)\n",
        "df['dependency'] = df['dependency'].replace('no', 0)\n",
        "df['dependency'] = df['dependency'].astype('float64')"
      ],
      "execution_count": 0,
      "outputs": []
    },
    {
      "cell_type": "markdown",
      "metadata": {
        "colab_type": "text",
        "id": "iff4-W2yPGh8"
      },
      "source": [
        "## Years of Education for Male and Female Head of Household edjefe / edjefa"
      ]
    },
    {
      "cell_type": "code",
      "metadata": {
        "colab_type": "code",
        "id": "VtDQBim0PD6L",
        "outputId": "63b163bb-771e-4cde-9f3f-fce311f88375",
        "colab": {
          "base_uri": "https://localhost:8080/",
          "height": 425
        }
      },
      "source": [
        "df['edjefe'].unique().compute()"
      ],
      "execution_count": 0,
      "outputs": [
        {
          "output_type": "execute_result",
          "data": {
            "text/plain": [
              "0      10\n",
              "1      12\n",
              "2      no\n",
              "3      11\n",
              "4       9\n",
              "5      15\n",
              "6       4\n",
              "7       6\n",
              "8       8\n",
              "9      17\n",
              "10      7\n",
              "11     16\n",
              "12     14\n",
              "13      5\n",
              "14     21\n",
              "15      2\n",
              "16     19\n",
              "17    yes\n",
              "18      3\n",
              "19     18\n",
              "20     13\n",
              "21     20\n",
              "Name: edjefe, dtype: object"
            ]
          },
          "metadata": {
            "tags": []
          },
          "execution_count": 14
        }
      ]
    },
    {
      "cell_type": "code",
      "metadata": {
        "colab_type": "code",
        "id": "IkkjBwU3PnCt",
        "outputId": "7fe75278-ebd4-4a3c-e2cb-1ee87e8e2165",
        "colab": {
          "base_uri": "https://localhost:8080/",
          "height": 425
        }
      },
      "source": [
        "df['edjefa'].unique().compute()"
      ],
      "execution_count": 0,
      "outputs": [
        {
          "output_type": "execute_result",
          "data": {
            "text/plain": [
              "0      no\n",
              "1      11\n",
              "2       4\n",
              "3      10\n",
              "4       9\n",
              "5      15\n",
              "6       7\n",
              "7      14\n",
              "8      13\n",
              "9       8\n",
              "10     17\n",
              "11      6\n",
              "12      5\n",
              "13      3\n",
              "14     16\n",
              "15     19\n",
              "16    yes\n",
              "17     21\n",
              "18     12\n",
              "19      2\n",
              "20     20\n",
              "21     18\n",
              "Name: edjefa, dtype: object"
            ]
          },
          "metadata": {
            "tags": []
          },
          "execution_count": 15
        }
      ]
    },
    {
      "cell_type": "code",
      "metadata": {
        "colab_type": "code",
        "id": "DRpV5AyBPYUI",
        "colab": {}
      },
      "source": [
        "df['edjefe'] = df['edjefe'].replace('yes', 1)\n",
        "df['edjefe'] = df['edjefe'].replace('no', 0)\n",
        "df['edjefe'] = df['edjefe'].astype('int64')\n",
        "\n",
        "df['edjefa'] = df['edjefa'].replace('yes', 1)\n",
        "df['edjefa'] = df['edjefa'].replace('no', 0)\n",
        "df['edjefa'] = df['edjefa'].astype('int64')"
      ],
      "execution_count": 0,
      "outputs": []
    },
    {
      "cell_type": "markdown",
      "metadata": {
        "colab_type": "text",
        "id": "oxF_2WwiJ6e_"
      },
      "source": [
        "## Initial Check For Nulls\n"
      ]
    },
    {
      "cell_type": "markdown",
      "metadata": {
        "colab_type": "text",
        "id": "TVB3VU7dEwyV"
      },
      "source": [
        "### Rent 'v2a1'"
      ]
    },
    {
      "cell_type": "code",
      "metadata": {
        "colab_type": "code",
        "id": "ukKHAkFQ_jD1",
        "outputId": "f8ff1996-2550-4d06-f513-43c515add92e",
        "colab": {
          "base_uri": "https://localhost:8080/",
          "height": 336
        }
      },
      "source": [
        "print('Rent Value Counts: ')\n",
        "print(df['v2a1'].value_counts().compute())\n",
        "print('\\n--------------\\n')\n",
        "print('Rent Null Values: ')\n",
        "print(df['v2a1'].isnull().sum().compute())"
      ],
      "execution_count": 0,
      "outputs": [
        {
          "output_type": "stream",
          "text": [
            "Rent Value Counts: \n",
            "150000.0     233\n",
            "100000.0     181\n",
            "200000.0     159\n",
            "120000.0     149\n",
            "50000.0      118\n",
            "80000.0      104\n",
            "90000.0       81\n",
            "70000.0       79\n",
            "180000.0      77\n",
            "300000.0      76\n",
            "250000.0      75\n",
            "40000.0       72\n",
            "60000.0       57\n",
            "350000.0      53\n",
            "130000.0      53\n",
            "110000.0      53\n",
            "30000.0       48\n",
            "160000.0      46\n",
            "170000.0      41\n",
            "140000.0      39\n",
            "220000.0      30\n",
            "0.0           29\n",
            "570540.0      25\n",
            "45000.0       25\n",
            "175000.0      23\n",
            "400000.0      22\n",
            "20000.0       22\n",
            "285270.0      21\n",
            "25000.0       21\n",
            "125000.0      20\n",
            "            ... \n",
            "2353477.0      2\n",
            "78000.0        2\n",
            "219087.0       2\n",
            "525000.0       2\n",
            "470000.0       2\n",
            "420000.0       2\n",
            "325000.0       2\n",
            "294000.0       2\n",
            "288750.0       2\n",
            "278000.0       2\n",
            "275000.0       2\n",
            "83333.0        2\n",
            "155000.0       2\n",
            "191500.0       2\n",
            "176000.0       2\n",
            "93000.0        2\n",
            "159751.0       2\n",
            "100297.0       2\n",
            "102000.0       2\n",
            "108000.0       1\n",
            "542013.0       1\n",
            "510000.0       1\n",
            "119813.0       1\n",
            "118097.0       1\n",
            "234000.0       1\n",
            "125518.0       1\n",
            "25310.0        1\n",
            "268153.0       1\n",
            "253000.0       1\n",
            "249896.0       1\n",
            "Name: v2a1, Length: 157, dtype: int64\n",
            "\n",
            "--------------\n",
            "\n",
            "Rent Null Values: \n",
            "6860\n"
          ],
          "name": "stdout"
        }
      ]
    },
    {
      "cell_type": "code",
      "metadata": {
        "colab_type": "code",
        "id": "dMfeu85pC1-V",
        "colab": {}
      },
      "source": [
        "df['v2a1'] = df['v2a1'].fillna(value = 0)"
      ],
      "execution_count": 0,
      "outputs": []
    },
    {
      "cell_type": "markdown",
      "metadata": {
        "colab_type": "text",
        "id": "Qylhl8j7E2qc"
      },
      "source": [
        "### Years Behind in School"
      ]
    },
    {
      "cell_type": "code",
      "metadata": {
        "colab_type": "code",
        "id": "GTRMAx3lE94F",
        "outputId": "266b517c-a4cf-429a-827d-64ec27b00d8c",
        "colab": {
          "base_uri": "https://localhost:8080/",
          "height": 247
        }
      },
      "source": [
        "print('Years Behind in School Value Counts: ')\n",
        "print(df['rez_esc'].value_counts().compute())\n",
        "print('\\n--------------\\n')\n",
        "print('Years Behind in School Null Values: ')\n",
        "print(df['rez_esc'].isnull().sum().compute())"
      ],
      "execution_count": 0,
      "outputs": [
        {
          "output_type": "stream",
          "text": [
            "Years Behind in School Value Counts: \n",
            "0.0    1211\n",
            "1.0     227\n",
            "2.0      98\n",
            "3.0      55\n",
            "4.0      29\n",
            "5.0       9\n",
            "Name: rez_esc, dtype: int64\n",
            "\n",
            "--------------\n",
            "\n",
            "Years Behind in School Null Values: \n",
            "7928\n"
          ],
          "name": "stdout"
        }
      ]
    },
    {
      "cell_type": "code",
      "metadata": {
        "colab_type": "code",
        "id": "yWzswVJwFXO2",
        "outputId": "d53851f5-8b99-4aa6-ef7c-41ee75efb92f",
        "scrolled": false,
        "colab": {
          "base_uri": "https://localhost:8080/",
          "height": 230
        }
      },
      "source": [
        "years_behind_school_age_df = df.loc[df['rez_esc'].isnull(), ['rez_esc', 'age']]\n",
        "years_list = years_behind_school_age_df['age'].unique()\n",
        "\n",
        "years_list.compute()"
      ],
      "execution_count": 0,
      "outputs": [
        {
          "output_type": "execute_result",
          "data": {
            "text/plain": [
              "0     43\n",
              "1     67\n",
              "2     92\n",
              "3     37\n",
              "4     38\n",
              "5     30\n",
              "6     28\n",
              "7     18\n",
              "8     34\n",
              "9     79\n",
              "10    39\n",
              "11    19\n",
              "12    70\n",
              "13    50\n",
              "14    22\n",
              "15    26\n",
              "16    69\n",
              "17    66\n",
              "18    41\n",
              "19    20\n",
              "20    40\n",
              "21    44\n",
              "22    62\n",
              "23    33\n",
              "24    35\n",
              "25    56\n",
              "26    52\n",
              "27    36\n",
              "28    24\n",
              "29    76\n",
              "      ..\n",
              "57    72\n",
              "58     6\n",
              "59     5\n",
              "60    58\n",
              "61    27\n",
              "62     3\n",
              "63     2\n",
              "64    61\n",
              "65    25\n",
              "66     0\n",
              "67    23\n",
              "68    54\n",
              "69    32\n",
              "70    65\n",
              "71    77\n",
              "72    81\n",
              "73    88\n",
              "74    64\n",
              "75    87\n",
              "76    82\n",
              "77    95\n",
              "78    80\n",
              "79    85\n",
              "80    83\n",
              "81    84\n",
              "82    90\n",
              "83    86\n",
              "84    91\n",
              "85    93\n",
              "86    10\n",
              "Name: age, Length: 87, dtype: int64"
            ]
          },
          "metadata": {
            "tags": []
          },
          "execution_count": 20
        }
      ]
    },
    {
      "cell_type": "code",
      "metadata": {
        "colab_type": "code",
        "id": "ZiqSnBYYIOBz",
        "outputId": "fba8b840-5dfa-4ccc-8333-e32aead3e076",
        "colab": {
          "base_uri": "https://localhost:8080/",
          "height": 77
        }
      },
      "source": [
        "age_10_yrs_behind = df.loc[df['age']==10, ['age', 'rez_esc']]\n",
        "age_10_yrs_behind.loc[age_10_yrs_behind['rez_esc'].isnull()].compute()"
      ],
      "execution_count": 0,
      "outputs": [
        {
          "output_type": "execute_result",
          "data": {
            "text/html": [
              "<div>\n",
              "<style scoped>\n",
              "    .dataframe tbody tr th:only-of-type {\n",
              "        vertical-align: middle;\n",
              "    }\n",
              "\n",
              "    .dataframe tbody tr th {\n",
              "        vertical-align: top;\n",
              "    }\n",
              "\n",
              "    .dataframe thead th {\n",
              "        text-align: right;\n",
              "    }\n",
              "</style>\n",
              "<table border=\"1\" class=\"dataframe\">\n",
              "  <thead>\n",
              "    <tr style=\"text-align: right;\">\n",
              "      <th></th>\n",
              "      <th>age</th>\n",
              "      <th>rez_esc</th>\n",
              "    </tr>\n",
              "  </thead>\n",
              "  <tbody>\n",
              "    <tr>\n",
              "      <th>2514</th>\n",
              "      <td>10</td>\n",
              "      <td>NaN</td>\n",
              "    </tr>\n",
              "  </tbody>\n",
              "</table>\n",
              "</div>"
            ],
            "text/plain": [
              "      age  rez_esc\n",
              "2514   10      NaN"
            ]
          },
          "metadata": {
            "tags": []
          },
          "execution_count": 21
        }
      ]
    },
    {
      "cell_type": "markdown",
      "metadata": {
        "colab_type": "text",
        "id": "z5S5cKUAI6ND"
      },
      "source": [
        "Since all of the null values for years behind in school (except 1) fall on people before or after school ages--the nulls will be filled in with zeros. "
      ]
    },
    {
      "cell_type": "code",
      "metadata": {
        "colab_type": "code",
        "id": "mhVtqdA0JFpD",
        "colab": {}
      },
      "source": [
        "df['rez_esc'] = df['rez_esc'].fillna(value = 0)"
      ],
      "execution_count": 0,
      "outputs": []
    },
    {
      "cell_type": "markdown",
      "metadata": {
        "colab_type": "text",
        "id": "ABytrx8XE-di"
      },
      "source": [
        "### Household Tablets 'v18q1'"
      ]
    },
    {
      "cell_type": "code",
      "metadata": {
        "colab_type": "code",
        "id": "G3tajqm1JSKy",
        "outputId": "cacfdb8a-9fdc-4859-a40e-73fcd2ecbc33",
        "colab": {
          "base_uri": "https://localhost:8080/",
          "height": 141
        }
      },
      "source": [
        "df['v18q1'].value_counts().compute()"
      ],
      "execution_count": 0,
      "outputs": [
        {
          "output_type": "execute_result",
          "data": {
            "text/plain": [
              "1.0    1586\n",
              "2.0     444\n",
              "3.0     129\n",
              "4.0      37\n",
              "5.0      13\n",
              "6.0       6\n",
              "Name: v18q1, dtype: int64"
            ]
          },
          "metadata": {
            "tags": []
          },
          "execution_count": 23
        }
      ]
    },
    {
      "cell_type": "markdown",
      "metadata": {
        "colab_type": "text",
        "id": "3lnYqVkJJSEI"
      },
      "source": [
        "Since there are no zeros on the number of tablets owned, I will fill in the null values with zero since that's what they seem to indicate.\n"
      ]
    },
    {
      "cell_type": "code",
      "metadata": {
        "colab_type": "code",
        "id": "UvaDgNOaIRb5",
        "colab": {}
      },
      "source": [
        "df['v18q1'] = df['v18q1'].fillna(0)"
      ],
      "execution_count": 0,
      "outputs": []
    },
    {
      "cell_type": "markdown",
      "metadata": {
        "colab_type": "text",
        "id": "vLoYkLOVJqLr"
      },
      "source": [
        "### Drop the remaining nulls since there are only 5 rows with null values."
      ]
    },
    {
      "cell_type": "code",
      "metadata": {
        "colab_type": "code",
        "id": "phBH4igIJdsU",
        "colab": {}
      },
      "source": [
        "df = df.dropna()"
      ],
      "execution_count": 0,
      "outputs": []
    },
    {
      "cell_type": "markdown",
      "metadata": {
        "colab_type": "text",
        "id": "q1IcgHwYpQTL"
      },
      "source": [
        "# Initial Feature Selection"
      ]
    },
    {
      "cell_type": "markdown",
      "metadata": {
        "colab_type": "text",
        "id": "jNeX0O-QpX6o"
      },
      "source": [
        "Drop features due to multicollinearity or low impact on model. Drop ID numbers. "
      ]
    },
    {
      "cell_type": "code",
      "metadata": {
        "colab_type": "code",
        "id": "9Kbfs5PzpQZD",
        "colab": {}
      },
      "source": [
        "df1 = df.copy()\n",
        "df1 = df1.drop(columns = ['v18q', 'edjefe', 'Id', 'idhogar', 'hacdor', 'hogar_total'])"
      ],
      "execution_count": 0,
      "outputs": []
    },
    {
      "cell_type": "markdown",
      "metadata": {
        "colab_type": "text",
        "id": "dWAFOyycdQKz"
      },
      "source": [
        "## Check for Multicollinearity "
      ]
    },
    {
      "cell_type": "code",
      "metadata": {
        "colab_type": "code",
        "id": "COh67TXY6YbU",
        "outputId": "02a6f9bf-5772-4f52-bde1-69e512123658",
        "colab": {
          "base_uri": "https://localhost:8080/",
          "height": 230
        }
      },
      "source": [
        "abs(df1.corr()['Target']).compute().sort_values(ascending = True)"
      ],
      "execution_count": 0,
      "outputs": [
        {
          "output_type": "execute_result",
          "data": {
            "text/plain": [
              "planpri            0.000551\n",
              "paredother         0.000615\n",
              "coopele            0.002398\n",
              "estadocivil6       0.003306\n",
              "estadocivil7       0.004391\n",
              "hogar_mayor        0.004988\n",
              "parentesco7        0.006253\n",
              "parentesco8        0.008580\n",
              "public             0.008945\n",
              "parentesco10       0.011012\n",
              "parentesco9        0.012362\n",
              "sanitario6         0.012937\n",
              "parentesco12       0.013759\n",
              "parentesco5        0.016572\n",
              "lugar2             0.018411\n",
              "parentesco11       0.019038\n",
              "techoentrepiso     0.019643\n",
              "parentesco4        0.020849\n",
              "pisoother          0.021233\n",
              "elimbasu6          0.024521\n",
              "techozinc          0.027592\n",
              "paredfibras        0.027719\n",
              "estadocivil2       0.030001\n",
              "techootro          0.032454\n",
              "noelec             0.033962\n",
              "techocane          0.035316\n",
              "r4m2               0.036567\n",
              "edjefa             0.037415\n",
              "parentesco1        0.037697\n",
              "male               0.038595\n",
              "                     ...   \n",
              "paredmad           0.168426\n",
              "lugar1             0.173109\n",
              "r4m3               0.173588\n",
              "computer           0.183107\n",
              "dependency         0.196910\n",
              "qmobilephone       0.200010\n",
              "v18q1              0.201960\n",
              "pisocemento        0.205286\n",
              "rooms              0.226956\n",
              "r4h1               0.229732\n",
              "SQBedjefe          0.246396\n",
              "r4m1               0.253008\n",
              "SQBovercrowding    0.258684\n",
              "paredblolad        0.261528\n",
              "roof               0.268691\n",
              "SQBmeaned          0.276620\n",
              "pisomoscer         0.280111\n",
              "overcrowding       0.289053\n",
              "SQBescolari        0.296589\n",
              "education          0.296978\n",
              "escolari           0.302267\n",
              "floor              0.303216\n",
              "cielorazo          0.304247\n",
              "wall               0.306621\n",
              "SQBhogar_nin       0.311204\n",
              "r4t1               0.316560\n",
              "hogar_nin          0.328359\n",
              "meaneduc           0.335203\n",
              "Target             1.000000\n",
              "elimbasu5               NaN\n",
              "Name: Target, Length: 117, dtype: float64"
            ]
          },
          "metadata": {
            "tags": []
          },
          "execution_count": 27
        }
      ]
    },
    {
      "cell_type": "markdown",
      "metadata": {
        "colab_type": "text",
        "id": "Wa5vJJv_UCzs"
      },
      "source": [
        "# Model Creation, Fine Tuning, and Metrics"
      ]
    },
    {
      "cell_type": "markdown",
      "metadata": {
        "colab_type": "text",
        "id": "t6UhHlgQAd7q"
      },
      "source": [
        "## Train Test Split"
      ]
    },
    {
      "cell_type": "code",
      "metadata": {
        "colab_type": "code",
        "id": "AWE2H-vDAkum",
        "colab": {}
      },
      "source": [
        "X = df1.drop(columns = ['Target']) \n",
        "y = df1['Target']"
      ],
      "execution_count": 0,
      "outputs": []
    },
    {
      "cell_type": "code",
      "metadata": {
        "colab_type": "code",
        "id": "HOdZfjTHUI26",
        "colab": {}
      },
      "source": [
        "X_train, X_test, y_train, y_test = train_test_split(X, y, test_size=0.2)"
      ],
      "execution_count": 0,
      "outputs": []
    },
    {
      "cell_type": "markdown",
      "metadata": {
        "colab_type": "text",
        "id": "sM7PF2D8UKpR"
      },
      "source": [
        "## Random Forest"
      ]
    },
    {
      "cell_type": "markdown",
      "metadata": {
        "colab_type": "text",
        "id": "BxB5aWJXeR6h"
      },
      "source": [
        "### Random Forest with Best Hyper Parameters"
      ]
    },
    {
      "cell_type": "code",
      "metadata": {
        "colab_type": "code",
        "id": "oOKpL5LePPmR",
        "colab": {}
      },
      "source": [
        "#create model\n",
        "rfc = RandomForestClassifier(max_features = 'auto', random_state = 21, n_estimators = 2000, max_depth = 80, min_samples_split=2, min_samples_leaf=1, bootstrap = False)\n",
        "\n",
        "with joblib.parallel_backend('dask'):\n",
        "    rfc.fit(X_train, y_train)"
      ],
      "execution_count": 0,
      "outputs": []
    },
    {
      "cell_type": "code",
      "metadata": {
        "colab_type": "code",
        "id": "PPukoMSVE86a",
        "colab": {}
      },
      "source": [
        "#model results\n",
        "preds_train = rfc.predict(X_train.values.compute())\n",
        "preds_test = rfc.predict(X_test.values.compute())"
      ],
      "execution_count": 0,
      "outputs": []
    },
    {
      "cell_type": "markdown",
      "metadata": {
        "colab_type": "text",
        "id": "iFSMJwO0FK_r"
      },
      "source": [
        "### Random Forest Metrics"
      ]
    },
    {
      "cell_type": "code",
      "metadata": {
        "colab_type": "code",
        "id": "praJR2qnEq_h",
        "outputId": "332f15fc-3a0d-4210-af05-60ed2338c62b",
        "colab": {
          "base_uri": "https://localhost:8080/",
          "height": 405
        }
      },
      "source": [
        "print('Train Accuracy: {}'.format(rfc.score(X_train, y_train)))\n",
        "print('Test Accuracy: {}'.format(rfc.score(X_test, y_test)))\n",
        "print('Train F1: {}'.format(f1_score(y_train, preds_train, average = 'micro')))\n",
        "print('Test F1: {}'.format(f1_score(y_test, preds_test, average = 'micro')))"
      ],
      "execution_count": 0,
      "outputs": [
        {
          "output_type": "stream",
          "text": [
            "Train Accuracy: 1.0\n",
            "Test Accuracy: 0.9399255715045188\n",
            "Train F1: 1.0\n",
            "Test F1: 0.9399255715045188\n"
          ],
          "name": "stdout"
        }
      ]
    },
    {
      "cell_type": "markdown",
      "metadata": {
        "colab_type": "text",
        "id": "4AEvIWH_fphU"
      },
      "source": [
        "### Classification Report"
      ]
    },
    {
      "cell_type": "code",
      "metadata": {
        "colab_type": "code",
        "id": "O3gF4dkpFt7J",
        "outputId": "c7c8a65b-3ea1-4443-e82e-c13ed9c5aac6",
        "colab": {
          "base_uri": "https://localhost:8080/",
          "height": 207
        }
      },
      "source": [
        "print(classification_report(y_test, preds_test))"
      ],
      "execution_count": 0,
      "outputs": [
        {
          "output_type": "stream",
          "text": [
            "              precision    recall  f1-score   support\n",
            "\n",
            "           1       0.97      0.86      0.91       155\n",
            "           2       0.94      0.89      0.91       321\n",
            "           3       0.95      0.81      0.87       249\n",
            "           4       0.94      0.99      0.96      1156\n",
            "\n",
            "    accuracy                           0.94      1881\n",
            "   macro avg       0.95      0.89      0.91      1881\n",
            "weighted avg       0.94      0.94      0.94      1881\n",
            "\n"
          ],
          "name": "stdout"
        }
      ]
    },
    {
      "cell_type": "markdown",
      "metadata": {
        "colab_type": "text",
        "id": "EVkpoyj3FznC"
      },
      "source": [
        "### Confusion Matrix"
      ]
    },
    {
      "cell_type": "code",
      "metadata": {
        "colab_type": "code",
        "id": "YIl8PMR0F0E9",
        "outputId": "b7facb55-6f1d-4684-9607-bf552d4a2232",
        "colab": {
          "base_uri": "https://localhost:8080/",
          "height": 507
        }
      },
      "source": [
        "confusion_matrix(y_test, preds_test)"
      ],
      "execution_count": 0,
      "outputs": [
        {
          "output_type": "execute_result",
          "data": {
            "text/plain": [
              "array([[ 133,    8,    0,   14],\n",
              "       [   3,  285,    6,   27],\n",
              "       [   1,    9,  201,   38],\n",
              "       [   0,    2,    5, 1149]])"
            ]
          },
          "metadata": {
            "tags": []
          },
          "execution_count": 52
        }
      ]
    },
    {
      "cell_type": "markdown",
      "metadata": {
        "colab_type": "text",
        "id": "eVnPR8kZaCZV"
      },
      "source": [
        "## XG Boost"
      ]
    },
    {
      "cell_type": "markdown",
      "metadata": {
        "colab_type": "text",
        "id": "S3nEZ_Hsnv2m"
      },
      "source": [
        "### XG Boost with Best Hyperparameters"
      ]
    },
    {
      "cell_type": "code",
      "metadata": {
        "colab_type": "code",
        "id": "A0ijCeH7nvYF",
        "colab": {}
      },
      "source": [
        "#create model\n",
        "xgb1 = XGBClassifier(max_depth=9, learning_rate=.3, n_estimators=1000)\n",
        "\n",
        "with joblib.parallel_backend('dask'):\n",
        "    xgb1.fit(X_train, y_train)"
      ],
      "execution_count": 0,
      "outputs": []
    },
    {
      "cell_type": "code",
      "metadata": {
        "colab_type": "code",
        "id": "TsGkos6VJJdr",
        "outputId": "867992c4-9e3d-47d4-aab9-132c205268a8",
        "colab": {
          "base_uri": "https://localhost:8080/",
          "height": 370
        }
      },
      "source": [
        "#make predictions\n",
        "xgb1_y_pred_train = xgb1.predict(X_train)\n",
        "\n",
        "xgb1_y_pred_test = xgb1.predict(X_test)\n",
        "\n",
        "\n",
        "print('Train Accuracy: {}'.format(xgb1.score(X_train, y_train)))\n",
        "print('Test Accuracy: {}'.format(xgb1.score(X_test, y_test)))\n",
        "print('Test F1: {}'.format(f1_score(y_test, xgb1_y_pred_test, average = 'micro')))\n",
        "print('Train F1: {}'.format(f1_score(y_train, xgb1_y_pred_train, average = 'micro')))"
      ],
      "execution_count": 0,
      "outputs": [
        {
          "output_type": "stream",
          "text": [
            "Train Accuracy: 1.0\n",
            "Test Accuracy: 0.9473684210526315\n",
            "Test F1: 0.9473684210526315\n",
            "Train F1: 1.0\n"
          ],
          "name": "stdout"
        }
      ]
    },
    {
      "cell_type": "markdown",
      "metadata": {
        "colab_type": "text",
        "id": "Rb1x1yNL_6bt"
      },
      "source": [
        "### Classification Report"
      ]
    },
    {
      "cell_type": "code",
      "metadata": {
        "colab_type": "code",
        "id": "cf_MfG2x_5HY",
        "outputId": "ef78f0c8-ec58-4a4d-f91a-763534d82716",
        "colab": {
          "base_uri": "https://localhost:8080/",
          "height": 207
        }
      },
      "source": [
        "print(classification_report(y_test, xgb1_y_pred_test))"
      ],
      "execution_count": 0,
      "outputs": [
        {
          "output_type": "stream",
          "text": [
            "              precision    recall  f1-score   support\n",
            "\n",
            "           1       0.96      0.88      0.92       155\n",
            "           2       0.94      0.89      0.92       321\n",
            "           3       0.93      0.86      0.89       249\n",
            "           4       0.95      0.99      0.97      1156\n",
            "\n",
            "    accuracy                           0.95      1881\n",
            "   macro avg       0.95      0.91      0.92      1881\n",
            "weighted avg       0.95      0.95      0.95      1881\n",
            "\n"
          ],
          "name": "stdout"
        }
      ]
    },
    {
      "cell_type": "markdown",
      "metadata": {
        "colab_type": "text",
        "id": "p15AqLPm_5gp"
      },
      "source": [
        "### Confusion Matrix"
      ]
    },
    {
      "cell_type": "code",
      "metadata": {
        "colab_type": "code",
        "id": "LaA6JJMw_6A3",
        "outputId": "5e03cf8b-6556-40f4-faf0-9e997981f5fd",
        "colab": {
          "base_uri": "https://localhost:8080/",
          "height": 503
        }
      },
      "source": [
        "confusion_matrix(y_test, xgb1_y_pred_test)"
      ],
      "execution_count": 0,
      "outputs": [
        {
          "output_type": "execute_result",
          "data": {
            "text/plain": [
              "array([[ 137,    7,    1,   10],\n",
              "       [   4,  286,    8,   23],\n",
              "       [   1,    9,  213,   26],\n",
              "       [   0,    2,    8, 1146]])"
            ]
          },
          "metadata": {
            "tags": []
          },
          "execution_count": 60
        }
      ]
    }
  ]
}